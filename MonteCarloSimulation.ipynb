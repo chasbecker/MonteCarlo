{
  "metadata": {
    "kernelspec": {
      "name": "python36",
      "display_name": "Python 3.6",
      "language": "python"
    },
    "language_info": {
      "mimetype": "text/x-python",
      "nbconvert_exporter": "python",
      "name": "python",
      "pygments_lexer": "ipython3",
      "version": "3.6.6",
      "file_extension": ".py",
      "codemirror_mode": {
        "version": 3,
        "name": "ipython"
      }
    }
  },
  "nbformat_minor": 2,
  "nbformat": 4,
  "cells": [
    {
      "cell_type": "markdown",
      "source": "Thanks to: https://towardsdatascience.com/monte-carlo-simulations-with-python-part-1-f5627b7d60b0",
      "metadata": {}
    },
    {
      "cell_type": "code",
      "source": "import numpy as np\nimport math\nimport random\nfrom matplotlib import pyplot as plt\nfrom IPython.display import clear_output\n\nPI = math.pi\ne = math.e",
      "metadata": {
        "trusted": true
      },
      "execution_count": 1,
      "outputs": [
        {
          "text": "/home/nbuser/anaconda3_501/lib/python3.6/site-packages/matplotlib/font_manager.py:229: UserWarning: Matplotlib is building the font cache using fc-list. This may take a moment.\n  'Matplotlib is building the font cache using fc-list. '\n",
          "name": "stderr",
          "output_type": "stream"
        }
      ]
    },
    {
      "cell_type": "code",
      "source": "def get_random_number(min_val, max_val):\n    val_range = max_val - min_val\n    choice = random.uniform(0,1)\n    return min_val + val_range*choice",
      "metadata": {
        "trusted": true
      },
      "execution_count": 2,
      "outputs": []
    },
    {
      "cell_type": "code",
      "source": "get_random_number(0,1)",
      "metadata": {
        "trusted": true
      },
      "execution_count": 3,
      "outputs": [
        {
          "execution_count": 3,
          "output_type": "execute_result",
          "data": {
            "text/plain": "0.6030154638077867"
          },
          "metadata": {}
        }
      ]
    },
    {
      "cell_type": "markdown",
      "source": "Using the average value of the function to estimate its definite integral....\nhttp://tutorial.math.lamar.edu/Classes/CalcI/ProofIntProp.aspx#Extras_IntPf_AvgVal",
      "metadata": {}
    },
    {
      "cell_type": "code",
      "source": "def f_of_x(x):\n    return(e**(-x))/(1+(x-1)**2)",
      "metadata": {
        "trusted": true
      },
      "execution_count": 4,
      "outputs": []
    },
    {
      "cell_type": "code",
      "source": "f_of_x(1)",
      "metadata": {
        "trusted": true
      },
      "execution_count": 5,
      "outputs": [
        {
          "execution_count": 5,
          "output_type": "execute_result",
          "data": {
            "text/plain": "0.36787944117144233"
          },
          "metadata": {}
        }
      ]
    },
    {
      "cell_type": "code",
      "source": "def crude_monte_carlo(num_samples, lower_bound, upper_bound):\n    fx_vals = []\n    sum_of_samples=0\n    for i in range(num_samples):\n        x = get_random_number(lower_bound, upper_bound)\n        sum_of_samples += f_of_x(x)\n    return( (upper_bound - lower_bound) * float(sum_of_samples/num_samples) )",
      "metadata": {
        "trusted": true
      },
      "execution_count": 6,
      "outputs": []
    },
    {
      "cell_type": "code",
      "source": "crude_monte_carlo(10000, 0, 5)",
      "metadata": {
        "trusted": true
      },
      "execution_count": 7,
      "outputs": [
        {
          "execution_count": 7,
          "output_type": "execute_result",
          "data": {
            "text/plain": "0.7025023428164463"
          },
          "metadata": {}
        }
      ]
    },
    {
      "cell_type": "code",
      "source": "",
      "metadata": {
        "trusted": true
      },
      "execution_count": null,
      "outputs": []
    }
  ]
}